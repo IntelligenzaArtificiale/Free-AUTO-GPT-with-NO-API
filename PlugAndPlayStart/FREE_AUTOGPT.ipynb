{
  "cells": [
    {
      "cell_type": "markdown",
      "metadata": {
        "id": "IAnBqnxo2CkR"
      },
      "source": [
        "#USE AI AGENTs, like AUTOGPT or BABYAGI, without paids API. TOTALLY FOR FREE 🎁"
      ]
    },
    {
      "cell_type": "markdown",
      "metadata": {
        "id": "bMpPiTwk2vRT"
      },
      "source": [
        "![AUTO GPT FREE](https://static.wixstatic.com/media/3c029f_7db5f44379074783b6f2de67b82eb3b5~mv2.gif)"
      ]
    },
    {
      "cell_type": "markdown",
      "metadata": {
        "id": "WWnigaEo63W0"
      },
      "source": [
        "## SETUP REPOSITORY 📂\n"
      ]
    },
    {
      "cell_type": "code",
      "execution_count": null,
      "metadata": {
        "colab": {
          "base_uri": "https://localhost:8080/"
        },
        "id": "Me-TEdpy1-Zx",
        "outputId": "4ad04b3d-8e87-45ba-ad76-0769c3ffc2ee"
      },
      "outputs": [],
      "source": [
        "!git clone https://github.com/IntelligenzaArtificiale/Free-AUTO-GPT-with-NO-API.git\n"
      ]
    },
    {
      "cell_type": "code",
      "execution_count": null,
      "metadata": {
        "colab": {
          "base_uri": "https://localhost:8080/"
        },
        "id": "e3ylgJ_P8PBZ",
        "outputId": "bb438792-a62d-4713-e67e-e129881a5326"
      },
      "outputs": [],
      "source": [
        "import pathlib\n",
        "import re\n",
        "import subprocess\n",
        "import typing\n",
        "\n",
        "\n",
        "def is_in_jupyter_notebook() -> bool:\n",
        "    \"\"\"It checks whether a Jupyter notebook is being run\"\"\"\n",
        "    try:\n",
        "        get_ipython\n",
        "        return True\n",
        "    except NameError:\n",
        "        return False\n",
        "\n",
        "\n",
        "def is_on_gcolab() -> bool:\n",
        "    \"\"\"It checks whether a Jupyter notebook is being run on Google Colab\"\"\"\n",
        "    if not is_in_jupyter_notebook():\n",
        "        return False\n",
        "\n",
        "    return \"google.colab\" in str(get_ipython())\n",
        "\n",
        "\n",
        "def is_ubuntu_20_04() -> bool:\n",
        "    import lsb_release\n",
        "    metadata = lsb_release.get_os_release()\n",
        "\n",
        "    distro  = metadata[\"ID\"].lower()\n",
        "    release = metadata[\"RELEASE\"]\n",
        "\n",
        "    return distro == \"ubuntu\" and release == \"20.04\"\n",
        "\n",
        "\n",
        "def setup_ubuntu_20_04() -> None:\n",
        "    \"\"\"It sets up a Ubuntu 20.04 container with `chromium-browser`\n",
        "\n",
        "    For more information, see \n",
        "    https://github.com/googlecolab/colabtools/issues/3347#issuecomment-1387453484\n",
        "    \"\"\"\n",
        "    # It adds debian buster\n",
        "    EOF_debian_buster = \"\"\"\\\n",
        "deb [arch=amd64 signed-by=/usr/share/keyrings/debian-buster.gpg] http://deb.debian.org/debian buster main\n",
        "deb [arch=amd64 signed-by=/usr/share/keyrings/debian-buster-updates.gpg] http://deb.debian.org/debian buster-updates main\n",
        "deb [arch=amd64 signed-by=/usr/share/keyrings/debian-security-buster.gpg] http://deb.debian.org/debian-security buster/updates main\n",
        "\"\"\"\n",
        "    !echo \"$EOF_debian_buster\" > /etc/apt/sources.list.d/debian.list\n",
        "\n",
        "    # It adds keys\n",
        "    !apt-key adv --keyserver keyserver.ubuntu.com --recv-keys DCC9EFBF77E11517\n",
        "    !apt-key adv --keyserver keyserver.ubuntu.com --recv-keys 648ACFD622F3D138\n",
        "    !apt-key adv --keyserver keyserver.ubuntu.com --recv-keys 112695A0E562B32A\n",
        "\n",
        "    !apt-key export 77E11517 | gpg --dearmour -o /usr/share/keyrings/debian-buster.gpg\n",
        "    !apt-key export 22F3D138 | gpg --dearmour -o /usr/share/keyrings/debian-buster-updates.gpg\n",
        "    !apt-key export E562B32A | gpg --dearmour -o /usr/share/keyrings/debian-security-buster.gpg\n",
        "\n",
        "    # It adds the debian repo for chromium* packages only\n",
        "    # Note the double-blank lines between entries\n",
        "    EOF_chromium_pref = \"\"\"\\\n",
        "Package: *\n",
        "Pin: release a=eoan\n",
        "Pin-Priority: 500\n",
        "\n",
        "\n",
        "Package: *\n",
        "Pin: origin \"deb.debian.org\"\n",
        "Pin-Priority: 300\n",
        "\n",
        "\n",
        "Package: chromium*\n",
        "Pin: origin \"deb.debian.org\"\n",
        "Pin-Priority: 700\n",
        "\"\"\"\n",
        "    !echo \"$EOF_chromium_pref\" > /etc/apt/preferences.d/chromium.pref\n",
        "\n",
        "    # It installs the packages\n",
        "    !apt-get update\n",
        "    !apt-get install chromium chromium-driver\n",
        "    !apt-get install -y xvfb\n",
        "\n",
        "\n",
        "def setup_requirements() -> None:\n",
        "    PIP_requirements = \" \".join([\n",
        "        \"PyVirtualDisplay\", # To run a virtual display\n",
        "        \"undetected-chromedriver==3.2.1\",\n",
        "    ])\n",
        "\n",
        "    !python3 -m pip install --upgrade $PIP_requirements\n",
        "\n",
        "\n",
        "def get_py_module_path(module: str) -> typing.Optional[pathlib.Path]:\n",
        "    \"\"\"It gets the absolute path of a Python module\"\"\"\n",
        "    r = subprocess.run(\n",
        "        [\"pip\", \"show\", module], \n",
        "        capture_output=True\n",
        "    )\n",
        "\n",
        "    try:\n",
        "        r.check_returncode()\n",
        "    except subprocess.CalledProcessError:\n",
        "        return None\n",
        "\n",
        "    stdout = r.stdout.decode()\n",
        "\n",
        "    try:\n",
        "        RE_abspath = \"\\nLocation: (?P<abspath>.*)\\n\"\n",
        "\n",
        "        matches = re.search(RE_abspath, stdout)\n",
        "        abspath = matches.group(\"abspath\")\n",
        "    except AttributeError:\n",
        "        return None\n",
        "\n",
        "    dist_packages = pathlib.Path(abspath).resolve()\n",
        "    return dist_packages / module\n",
        "\n",
        "\n",
        "def patch_undetected_chromedriver() -> None:\n",
        "    \"\"\"It forces `undetected_chromedriver` to run the Chromium webdriver\n",
        "\n",
        "    For more information, see \n",
        "    https://github.com/ultrafunkamsterdam/undetected-chromedriver/issues/108#issuecomment-1170269377\n",
        "    \"\"\"\n",
        "    chromedriver_filename = \"chromedriver_linux64.zip\"\n",
        "\n",
        "    src_chromedriver_filepath = ROOT / chromedriver_filename\n",
        "    dst_chromedriver_filepath = pathlib.Path(\"/tmp\") / chromedriver_filename\n",
        "\n",
        "    !zip -j \"$src_chromedriver_filepath\" /usr/bin/chromedriver\n",
        "\n",
        "    PY_module = \"undetected_chromedriver\"\n",
        "    module_path = get_py_module_path(PY_module)\n",
        "\n",
        "    patcher_filepath = module_path / \"patcher.py\"\n",
        "\n",
        "    with patcher_filepath.open(\"rt\") as f:\n",
        "        contents = f.read()\n",
        "\n",
        "    src = f\"'file://{src_chromedriver_filepath}'\"\n",
        "    dst = f\"'{dst_chromedriver_filepath}'\"\n",
        "\n",
        "    # It is forced to use the local webdriver\n",
        "    contents = contents.replace(\n",
        "        f\"return urlretrieve(u)[0]\",\n",
        "        f\"return urlretrieve({src}, filename={dst})[0]\"\n",
        "    )\n",
        "\n",
        "    with patcher_filepath.open(\"wt\") as f:\n",
        "        f.write(contents)\n",
        "\n",
        "\n",
        "def setup_container() -> None:\n",
        "    \"\"\"It sets up the container which is being run\"\"\"\n",
        "    if is_ubuntu_20_04():\n",
        "        setup_ubuntu_20_04()\n",
        "\n",
        "    setup_requirements()\n",
        "    patch_undetected_chromedriver()\n",
        "\n",
        "\n",
        "ROOT = pathlib.Path(\"/content\")\n",
        "anchor = ROOT / \"anchor.txt\"\n",
        "\n",
        "\n",
        "assert is_on_gcolab(), \"It seems you are not on Google Colab\"\n",
        "\n",
        "# It will set the Google Colab container up only\n",
        "# after disconnections, not after restarts\n",
        "if not anchor.exists():\n",
        "    setup_container()\n",
        "    anchor.touch()"
      ]
    },
    {
      "cell_type": "code",
      "execution_count": null,
      "metadata": {
        "colab": {
          "base_uri": "https://localhost:8080/"
        },
        "id": "npyZzszN7MhH",
        "outputId": "6f24b65d-9dd7-4ae0-b417-e7019a4d4fcf"
      },
      "outputs": [],
      "source": [
        "%pip install -r requirements.txt \n",
        "# install dependencies\n",
        "%pip install PyVirtualDisplay\n"
      ]
    },
    {
      "cell_type": "markdown",
      "metadata": {
        "id": "k5YdBQWu7eWw"
      },
      "source": [
        "## HOW TO GET TOKEN and Cookies FREE 💡\n",
        " "
      ]
    },
    {
      "cell_type": "markdown",
      "metadata": {
        "id": "Ia_ZQWBi7u1y"
      },
      "source": [
        "\n",
        "\n",
        "- **HUGGINGFACE🤗** : Visit this simple [official guide](https://huggingface.co/docs/hub/security-tokens)\n",
        "\n",
        "- **Now Running also with HuggingCHAT**\n",
        "\n",
        "- **(OPTIONAL BUT BETTER RESULT) CHATGPT🖥** : \n",
        "    1. Go to https://chat.openai.com/chat and open the developer tools by `F12`.\n",
        "    2. Find the `__Secure-next-auth.session-token` cookie in `Application` > `Storage` > `Cookies` > `https://chat.openai.com`.\n",
        "    3. Copy the value in the `Cookie Value` field.\n",
        "\n",
        "\n",
        "![image](https://user-images.githubusercontent.com/19218518/206170122-61fbe94f-4b0c-4782-a344-e26ac0d4e2a7.png)\n",
        "\n",
        "- **(OPTIONAL) Google Bard🖥** : \n",
        "    1. Go toGo to https://bard.google.com/ and open the developer tools by `F12`.\n",
        "    2. Find the `__Secure-1PSID` cookie in `Application` > `Storage` > `Cookies` \n",
        "    3. Copy the value in the `Cookie Value` field.\n",
        "\n",
        "![Cattura](https://user-images.githubusercontent.com/108482353/236518416-ba0fb89c-080d-4e5e-8514-4ed7ac897b55.PNG)\n",
        "\n",
        "\n",
        "\n",
        "- **(OPTIONAL) Bing CHAT** :\n",
        "    1. Check if you have access to [Bing Chat](https://chrome.google.com/webstore/detail/bing-chat-for-all-browser/jofbglonpbndadajbafmmaklbfbkggpo)\n",
        "    2. Install the cookie editor extension for [Chrome](https://chrome.google.com/webstore/detail/cookie-editor/hlkenndednhfkekhgcdicdfddnkalmdm) or [Firefox](https://addons.mozilla.org/en-US/firefox/addon/cookie-editor/)\n",
        "    3. Go to `bing.com` \n",
        "    4. Open the extension for cookie\n",
        "    5. Click \"Export\" on the bottom right, then \"Export as JSON\" (This saves your cookies to clipboard)\n",
        "    6. Paste your cookies into a file `/content/Free-AUTO-GPT-with-NO-API/cookiesBing.json`\n",
        "\n",
        "\n",
        "![image](https://user-images.githubusercontent.com/108482353/236259872-faf7946c-5648-4733-8d66-978040eacd85.png)\n"
      ]
    },
    {
      "cell_type": "markdown",
      "metadata": {
        "id": "ZJ5uN73z8W5q"
      },
      "source": [
        "## 🚀SAVE HERE YOURS TOKENs🚀\n",
        "\n"
      ]
    },
    {
      "cell_type": "code",
      "execution_count": null,
      "metadata": {
        "id": "15P-9XxdUAyA"
      },
      "outputs": [],
      "source": [
        "import os\n",
        "\n",
        "# Hugging FACE\n",
        "os.environ[\"HUGGINGFACE_TOKEN\"] = \"COPY-HERE-TOKEN\"\n",
        "\n",
        "# ChatGPT ( NOT WORKING ON GOOGLE COLAB )\n",
        "os.environ[\"CHATGPT_TOKEN\"] = \"COPY-HERE-TOKEN\"\n",
        "\n",
        "# BING chat ( rember to copy yours cookies into : /content/Free-AUTO-GPT-with-NO-API/cookiesBing.json )\n",
        "os.environ[\"BINGCHAT_COOKIEPATH\"] = \"/content/Free-AUTO-GPT-with-NO-API/cookiesBing.json\"\n",
        "\n",
        "# Google Bard\n",
        "os.environ[\"BARDCHAT_TOKEN\"] = \"COPY-HERE-COOKIE\"\n",
        "\n"
      ]
    },
    {
      "cell_type": "markdown",
      "metadata": {
        "id": "8-DvgafvBUjm"
      },
      "source": [
        "# ⚠️ DONT RUN **CHATGPT** ISTANCE ON COLAB DOSENT WORK FOR NOW ⚠️ \n",
        "# ⚠️ USE ONLY HUGGING CHAT ⚠️ "
      ]
    },
    {
      "cell_type": "markdown",
      "metadata": {
        "id": "Y6CV8XNvLNOG"
      },
      "source": [
        "## RUN Other Agent or Ddevelop your own Agent 👨‍💻 🧑‍💻"
      ]
    },
    {
      "cell_type": "code",
      "execution_count": null,
      "metadata": {
        "colab": {
          "base_uri": "https://localhost:8080/"
        },
        "id": "1BhJMiSlLNOh",
        "outputId": "fa804a3c-2a77-43c7-d010-e112fc347170"
      },
      "outputs": [],
      "source": [
        "# Check for available AGENT\n",
        "!ls /content/Free-AUTO-GPT-with-NO-API/OtherAgent/\n",
        "\n"
      ]
    },
    {
      "cell_type": "code",
      "execution_count": null,
      "metadata": {
        "colab": {
          "base_uri": "https://localhost:8080/"
        },
        "id": "TU5w982hLNOk",
        "outputId": "4ce0de82-a7f7-4c11-a3c5-0316c77eebcc"
      },
      "outputs": [],
      "source": [
        "# open /content/Free-AUTO-GPT-with-NO-API/OtherAgent/FreeLLM/pyChatGPT.py\n",
        "# \n",
        "\n",
        "\n",
        "!python /content/Free-AUTO-GPT-with-NO-API/OtherAgent/csvAgent.py\n",
        "\n",
        "#insert this path for csv : /content/Free-AUTO-GPT-with-NO-API/OtherAgent/startup.csv"
      ]
    },
    {
      "cell_type": "code",
      "execution_count": null,
      "metadata": {
        "colab": {
          "base_uri": "https://localhost:8080/"
        },
        "id": "xURXyzG8f0GR",
        "outputId": "36909203-d3ca-44de-b68c-7eb33d97a8e1"
      },
      "outputs": [],
      "source": [
        "!python /content/Free-AUTO-GPT-with-NO-API/OtherAgent/pythonAgent.py"
      ]
    },
    {
      "cell_type": "code",
      "execution_count": null,
      "metadata": {
        "colab": {
          "base_uri": "https://localhost:8080/"
        },
        "id": "1WoB_vfjkVSL",
        "outputId": "d62f26e2-448f-4a74-8ee6-109b70db8e6b"
      },
      "outputs": [],
      "source": [
        "!python /content/Free-AUTO-GPT-with-NO-API/OtherAgent/customAgent.py "
      ]
    },
    {
      "cell_type": "markdown",
      "metadata": {
        "id": "MhiskJ9nJtNC"
      },
      "source": [
        "## RUN BABYAGI 👶"
      ]
    },
    {
      "cell_type": "code",
      "execution_count": null,
      "metadata": {
        "colab": {
          "base_uri": "https://localhost:8080/"
        },
        "id": "LzZ5l0wHJtNe",
        "outputId": "59d2efee-c27d-4062-bf98-f0818b9a058a"
      },
      "outputs": [],
      "source": [
        "#Open the /content/Free-AUTO-GPT-with-NO-API/BABYAGI.py and Set \"verbose=True\" for view the debug \n",
        "\n",
        "!python /content/Free-AUTO-GPT-with-NO-API/BABYAGI.py "
      ]
    },
    {
      "cell_type": "markdown",
      "metadata": {
        "id": "UnP0gaxW9SBY"
      },
      "source": [
        "## RUN Meta-Prompt 👥"
      ]
    },
    {
      "cell_type": "code",
      "execution_count": null,
      "metadata": {
        "colab": {
          "base_uri": "https://localhost:8080/"
        },
        "id": "KA0gJrtI7tyW",
        "outputId": "c0eabdc8-2ebb-4d23-d813-f5e7c0584801"
      },
      "outputs": [],
      "source": [
        "!python /content/Free-AUTO-GPT-with-NO-API/MetaPrompt.py"
      ]
    },
    {
      "cell_type": "markdown",
      "metadata": {
        "id": "H_aNlq64ANbf"
      },
      "source": [
        "## RUN AUTOGPT 🤖"
      ]
    },
    {
      "cell_type": "code",
      "execution_count": null,
      "metadata": {
        "colab": {
          "base_uri": "https://localhost:8080/"
        },
        "id": "6r5HaCcHANb5",
        "outputId": "dc657529-cef2-4454-c7e8-08e927b637b5"
      },
      "outputs": [],
      "source": [
        "#Open the /content/Free-AUTO-GPT-with-NO-API/BABYAGI.py and modify or add new tool \n",
        "\"\"\"\n",
        "#ACTUAL TOOL \n",
        "tools = [\n",
        "    web_search, #DuckDuckGoSearchRun()\n",
        "    WriteFileTool(root_dir=\"/data\"),\n",
        "    ReadFileTool(root_dir=\"/data\"),\n",
        "    process_csv,\n",
        "    query_website_tool, playwright()\n",
        "    # HumanInputRun(), # Activate if you want the permit asking for help from the human\n",
        "]\n",
        "\"\"\"\n",
        "!python /content/Free-AUTO-GPT-with-NO-API/AUTOGPT.py"
      ]
    },
    {
      "cell_type": "markdown",
      "metadata": {
        "id": "9y5lqAosD6xc"
      },
      "source": [
        "## RUN CAMEL with Streamlit.io 🐪\n",
        "\n",
        "---\n"
      ]
    },
    {
      "cell_type": "code",
      "execution_count": null,
      "metadata": {
        "colab": {
          "base_uri": "https://localhost:8080/"
        },
        "id": "xrgp7pCcEFWw",
        "outputId": "62c1ef62-0f7a-4ab6-b824-9e93376811e7"
      },
      "outputs": [],
      "source": [
        "# SETUP COLAB for run Streamlit\n",
        "!npm install localtunnel"
      ]
    },
    {
      "cell_type": "code",
      "execution_count": null,
      "metadata": {
        "colab": {
          "base_uri": "https://localhost:8080/"
        },
        "id": "BU5tujDCD6x3",
        "outputId": "fbf01281-a778-4cea-b0e4-9157e961b85b"
      },
      "outputs": [],
      "source": [
        "!streamlit run /content/Free-AUTO-GPT-with-NO-API/Camel.py &>/content/logs.txt &\n",
        "!npx localtunnel --port 8501"
      ]
    }
  ],
  "metadata": {
    "colab": {
      "collapsed_sections": [
        "WWnigaEo63W0",
        "k5YdBQWu7eWw",
        "Y6CV8XNvLNOG",
        "MhiskJ9nJtNC",
        "UnP0gaxW9SBY",
        "H_aNlq64ANbf",
        "9y5lqAosD6xc"
      ],
      "provenance": []
    },
    "kernelspec": {
      "display_name": "Python 3",
      "name": "python3"
    },
    "language_info": {
      "codemirror_mode": {
        "name": "ipython",
        "version": 3
      },
      "file_extension": ".py",
      "mimetype": "text/x-python",
      "name": "python",
      "nbconvert_exporter": "python",
      "pygments_lexer": "ipython3",
      "version": "3.11.3"
    }
  },
  "nbformat": 4,
  "nbformat_minor": 0
}
